{
 "cells": [
  {
   "cell_type": "code",
   "execution_count": 84,
   "metadata": {},
   "outputs": [],
   "source": [
    "import numpy as np\n",
    "import pandas as pd\n",
    "import matplotlib.pyplot as plt\n",
    "import sklearn"
   ]
  },
  {
   "cell_type": "markdown",
   "metadata": {},
   "source": [
    "# Initializing datasets"
   ]
  },
  {
   "cell_type": "markdown",
   "metadata": {},
   "source": [
    "Data from http://www.electproject.org/national-1789-present"
   ]
  },
  {
   "cell_type": "code",
   "execution_count": 85,
   "metadata": {},
   "outputs": [],
   "source": [
    "data = pd.read_csv(r'../data/VoterTurnout.csv')"
   ]
  },
  {
   "cell_type": "code",
   "execution_count": 86,
   "metadata": {
    "scrolled": false
   },
   "outputs": [
    {
     "data": {
      "text/html": [
       "<div>\n",
       "<style scoped>\n",
       "    .dataframe tbody tr th:only-of-type {\n",
       "        vertical-align: middle;\n",
       "    }\n",
       "\n",
       "    .dataframe tbody tr th {\n",
       "        vertical-align: top;\n",
       "    }\n",
       "\n",
       "    .dataframe thead th {\n",
       "        text-align: right;\n",
       "    }\n",
       "</style>\n",
       "<table border=\"1\" class=\"dataframe\">\n",
       "  <thead>\n",
       "    <tr style=\"text-align: right;\">\n",
       "      <th></th>\n",
       "      <th>Year</th>\n",
       "      <th>Presidential</th>\n",
       "      <th>Midterm</th>\n",
       "      <th>Previous Presidential</th>\n",
       "      <th>Previous Midterm</th>\n",
       "    </tr>\n",
       "  </thead>\n",
       "  <tbody>\n",
       "    <tr>\n",
       "      <td>0</td>\n",
       "      <td>1792</td>\n",
       "      <td>6.3</td>\n",
       "      <td>25.0</td>\n",
       "      <td>11.6</td>\n",
       "      <td>21.6</td>\n",
       "    </tr>\n",
       "    <tr>\n",
       "      <td>1</td>\n",
       "      <td>1796</td>\n",
       "      <td>20.1</td>\n",
       "      <td>36.0</td>\n",
       "      <td>6.3</td>\n",
       "      <td>25.0</td>\n",
       "    </tr>\n",
       "    <tr>\n",
       "      <td>2</td>\n",
       "      <td>1800</td>\n",
       "      <td>32.3</td>\n",
       "      <td>42.0</td>\n",
       "      <td>20.1</td>\n",
       "      <td>36.0</td>\n",
       "    </tr>\n",
       "    <tr>\n",
       "      <td>3</td>\n",
       "      <td>1804</td>\n",
       "      <td>23.8</td>\n",
       "      <td>45.8</td>\n",
       "      <td>32.3</td>\n",
       "      <td>42.0</td>\n",
       "    </tr>\n",
       "    <tr>\n",
       "      <td>4</td>\n",
       "      <td>1808</td>\n",
       "      <td>36.8</td>\n",
       "      <td>49.8</td>\n",
       "      <td>23.8</td>\n",
       "      <td>45.8</td>\n",
       "    </tr>\n",
       "  </tbody>\n",
       "</table>\n",
       "</div>"
      ],
      "text/plain": [
       "   Year  Presidential  Midterm  Previous Presidential  Previous Midterm\n",
       "0  1792           6.3     25.0                   11.6              21.6\n",
       "1  1796          20.1     36.0                    6.3              25.0\n",
       "2  1800          32.3     42.0                   20.1              36.0\n",
       "3  1804          23.8     45.8                   32.3              42.0\n",
       "4  1808          36.8     49.8                   23.8              45.8"
      ]
     },
     "execution_count": 86,
     "metadata": {},
     "output_type": "execute_result"
    }
   ],
   "source": [
    "data.head()"
   ]
  },
  {
   "cell_type": "code",
   "execution_count": 87,
   "metadata": {},
   "outputs": [
    {
     "data": {
      "text/html": [
       "<div>\n",
       "<style scoped>\n",
       "    .dataframe tbody tr th:only-of-type {\n",
       "        vertical-align: middle;\n",
       "    }\n",
       "\n",
       "    .dataframe tbody tr th {\n",
       "        vertical-align: top;\n",
       "    }\n",
       "\n",
       "    .dataframe thead th {\n",
       "        text-align: right;\n",
       "    }\n",
       "</style>\n",
       "<table border=\"1\" class=\"dataframe\">\n",
       "  <thead>\n",
       "    <tr style=\"text-align: right;\">\n",
       "      <th></th>\n",
       "      <th>Year</th>\n",
       "      <th>Presidential</th>\n",
       "      <th>Midterm</th>\n",
       "      <th>Previous Presidential</th>\n",
       "      <th>Previous Midterm</th>\n",
       "    </tr>\n",
       "  </thead>\n",
       "  <tbody>\n",
       "    <tr>\n",
       "      <td>52</td>\n",
       "      <td>2000</td>\n",
       "      <td>54.2</td>\n",
       "      <td>39.5</td>\n",
       "      <td>51.7</td>\n",
       "      <td>38.1</td>\n",
       "    </tr>\n",
       "    <tr>\n",
       "      <td>53</td>\n",
       "      <td>2004</td>\n",
       "      <td>60.1</td>\n",
       "      <td>40.4</td>\n",
       "      <td>54.2</td>\n",
       "      <td>39.5</td>\n",
       "    </tr>\n",
       "    <tr>\n",
       "      <td>54</td>\n",
       "      <td>2008</td>\n",
       "      <td>61.6</td>\n",
       "      <td>41.0</td>\n",
       "      <td>60.1</td>\n",
       "      <td>40.4</td>\n",
       "    </tr>\n",
       "    <tr>\n",
       "      <td>55</td>\n",
       "      <td>2012</td>\n",
       "      <td>58.6</td>\n",
       "      <td>36.7</td>\n",
       "      <td>61.6</td>\n",
       "      <td>41.0</td>\n",
       "    </tr>\n",
       "    <tr>\n",
       "      <td>56</td>\n",
       "      <td>2016</td>\n",
       "      <td>60.1</td>\n",
       "      <td>50.0</td>\n",
       "      <td>58.6</td>\n",
       "      <td>36.7</td>\n",
       "    </tr>\n",
       "  </tbody>\n",
       "</table>\n",
       "</div>"
      ],
      "text/plain": [
       "    Year  Presidential  Midterm  Previous Presidential  Previous Midterm\n",
       "52  2000          54.2     39.5                   51.7              38.1\n",
       "53  2004          60.1     40.4                   54.2              39.5\n",
       "54  2008          61.6     41.0                   60.1              40.4\n",
       "55  2012          58.6     36.7                   61.6              41.0\n",
       "56  2016          60.1     50.0                   58.6              36.7"
      ]
     },
     "execution_count": 87,
     "metadata": {},
     "output_type": "execute_result"
    }
   ],
   "source": [
    "data.tail()"
   ]
  },
  {
   "cell_type": "code",
   "execution_count": 253,
   "metadata": {},
   "outputs": [],
   "source": [
    "x = data[['Previous Presidential', 'Previous Midterm']]\n",
    "y = data['Presidential']"
   ]
  },
  {
   "cell_type": "code",
   "execution_count": 254,
   "metadata": {},
   "outputs": [],
   "source": [
    "from sklearn.model_selection import train_test_split\n",
    "x_train, x_test, y_train, y_test = train_test_split(x, y, test_size=0.65, random_state=0)"
   ]
  },
  {
   "cell_type": "markdown",
   "metadata": {},
   "source": [
    "# Fit regression using decision tree"
   ]
  },
  {
   "cell_type": "code",
   "execution_count": 255,
   "metadata": {
    "scrolled": true
   },
   "outputs": [
    {
     "data": {
      "text/plain": [
       "DecisionTreeRegressor(criterion='mse', max_depth=None, max_features=None,\n",
       "                      max_leaf_nodes=None, min_impurity_decrease=0.0,\n",
       "                      min_impurity_split=None, min_samples_leaf=1,\n",
       "                      min_samples_split=2, min_weight_fraction_leaf=0.0,\n",
       "                      presort=False, random_state=0, splitter='best')"
      ]
     },
     "execution_count": 255,
     "metadata": {},
     "output_type": "execute_result"
    }
   ],
   "source": [
    "from sklearn.tree import DecisionTreeRegressor\n",
    "model = DecisionTreeRegressor(random_state=0)\n",
    "model.fit(x_train, y_train)"
   ]
  },
  {
   "cell_type": "code",
   "execution_count": 256,
   "metadata": {},
   "outputs": [
    {
     "data": {
      "text/plain": [
       "1.0"
      ]
     },
     "execution_count": 256,
     "metadata": {},
     "output_type": "execute_result"
    }
   ],
   "source": [
    "model.score(x_train, y_train)"
   ]
  },
  {
   "cell_type": "markdown",
   "metadata": {},
   "source": [
    "#### Score of 0.74 on test data"
   ]
  },
  {
   "cell_type": "code",
   "execution_count": 257,
   "metadata": {
    "scrolled": true
   },
   "outputs": [
    {
     "data": {
      "text/plain": [
       "0.741497677923906"
      ]
     },
     "execution_count": 257,
     "metadata": {},
     "output_type": "execute_result"
    }
   ],
   "source": [
    "model.score(x_test, y_test)"
   ]
  },
  {
   "cell_type": "markdown",
   "metadata": {},
   "source": [
    "# Visualization"
   ]
  },
  {
   "cell_type": "code",
   "execution_count": 258,
   "metadata": {
    "scrolled": true
   },
   "outputs": [
    {
     "data": {
      "text/plain": [
       "[Text(136.8173076923077, 201.90857142857143, 'Previous Presidential <= 46.05\\nmse = 498.506\\nsamples = 19\\nvalue = 55.053'),\n",
       " Text(51.50769230769231, 170.84571428571428, 'Previous Midterm <= 46.05\\nmse = 296.794\\nsamples = 5\\nvalue = 24.88'),\n",
       " Text(25.753846153846155, 139.78285714285715, 'Previous Midterm <= 23.3\\nmse = 56.709\\nsamples = 3\\nvalue = 16.733'),\n",
       " Text(12.876923076923077, 108.72, 'mse = 0.0\\nsamples = 1\\nvalue = 6.3'),\n",
       " Text(38.63076923076923, 108.72, 'Previous Presidential <= 19.3\\nmse = 3.422\\nsamples = 2\\nvalue = 21.95'),\n",
       " Text(25.753846153846155, 77.65714285714284, 'mse = 0.0\\nsamples = 1\\nvalue = 20.1'),\n",
       " Text(51.50769230769231, 77.65714285714284, 'mse = -0.0\\nsamples = 1\\nvalue = 23.8'),\n",
       " Text(77.26153846153846, 139.78285714285715, 'Previous Presidential <= 33.65\\nmse = 408.04\\nsamples = 2\\nvalue = 37.1'),\n",
       " Text(64.38461538461539, 108.72, 'mse = 0.0\\nsamples = 1\\nvalue = 57.3'),\n",
       " Text(90.13846153846154, 108.72, 'mse = 0.0\\nsamples = 1\\nvalue = 16.9'),\n",
       " Text(222.12692307692308, 170.84571428571428, 'Previous Midterm <= 56.3\\nmse = 129.286\\nsamples = 14\\nvalue = 65.829'),\n",
       " Text(148.0846153846154, 139.78285714285715, 'Previous Midterm <= 39.25\\nmse = 13.993\\nsamples = 9\\nvalue = 57.678'),\n",
       " Text(115.8923076923077, 108.72, 'Previous Presidential <= 59.15\\nmse = 1.717\\nsamples = 4\\nvalue = 54.125'),\n",
       " Text(103.01538461538462, 77.65714285714284, 'Previous Presidential <= 55.35\\nmse = 0.889\\nsamples = 3\\nvalue = 53.533'),\n",
       " Text(90.13846153846154, 46.59428571428572, 'mse = -0.0\\nsamples = 2\\nvalue = 54.2'),\n",
       " Text(115.8923076923077, 46.59428571428572, 'mse = 0.0\\nsamples = 1\\nvalue = 52.2'),\n",
       " Text(128.76923076923077, 77.65714285714284, 'mse = -0.0\\nsamples = 1\\nvalue = 55.9'),\n",
       " Text(180.27692307692308, 108.72, 'Previous Midterm <= 47.5\\nmse = 5.638\\nsamples = 5\\nvalue = 60.52'),\n",
       " Text(154.52307692307693, 77.65714285714284, 'Previous Midterm <= 45.9\\nmse = 4.34\\nsamples = 3\\nvalue = 59.1'),\n",
       " Text(141.64615384615385, 46.59428571428572, 'Previous Presidential <= 55.55\\nmse = 0.202\\nsamples = 2\\nvalue = 60.55'),\n",
       " Text(128.76923076923077, 15.531428571428563, 'mse = 0.0\\nsamples = 1\\nvalue = 60.1'),\n",
       " Text(154.52307692307693, 15.531428571428563, 'mse = 0.0\\nsamples = 1\\nvalue = 61.0'),\n",
       " Text(167.4, 46.59428571428572, 'mse = 0.0\\nsamples = 1\\nvalue = 56.2'),\n",
       " Text(206.03076923076924, 77.65714285714284, 'Previous Presidential <= 63.3\\nmse = 0.022\\nsamples = 2\\nvalue = 62.65'),\n",
       " Text(193.15384615384616, 46.59428571428572, 'mse = 0.0\\nsamples = 1\\nvalue = 62.5'),\n",
       " Text(218.90769230769232, 46.59428571428572, 'mse = 0.0\\nsamples = 1\\nvalue = 62.8'),\n",
       " Text(296.1692307692308, 139.78285714285715, 'Previous Presidential <= 79.35\\nmse = 1.98\\nsamples = 5\\nvalue = 80.5'),\n",
       " Text(283.2923076923077, 108.72, 'Previous Midterm <= 67.9\\nmse = 0.822\\nsamples = 4\\nvalue = 81.075'),\n",
       " Text(257.53846153846155, 77.65714285714284, 'Previous Midterm <= 64.45\\nmse = 1.102\\nsamples = 2\\nvalue = 81.55'),\n",
       " Text(244.66153846153847, 46.59428571428572, 'mse = 0.0\\nsamples = 1\\nvalue = 80.5'),\n",
       " Text(270.4153846153846, 46.59428571428572, 'mse = -0.0\\nsamples = 1\\nvalue = 82.6'),\n",
       " Text(309.04615384615386, 77.65714285714284, 'Previous Presidential <= 66.4\\nmse = 0.09\\nsamples = 2\\nvalue = 80.6'),\n",
       " Text(296.1692307692308, 46.59428571428572, 'mse = 0.0\\nsamples = 1\\nvalue = 80.3'),\n",
       " Text(321.9230769230769, 46.59428571428572, 'mse = 0.0\\nsamples = 1\\nvalue = 80.9'),\n",
       " Text(309.04615384615386, 108.72, 'mse = 0.0\\nsamples = 1\\nvalue = 78.2')]"
      ]
     },
     "execution_count": 258,
     "metadata": {},
     "output_type": "execute_result"
    },
    {
     "data": {
      "image/png": "[encoded data removed]",
      "text/plain": [
       "<Figure size 432x288 with 1 Axes>"
      ]
     },
     "metadata": {
      "needs_background": "light"
     },
     "output_type": "display_data"
    }
   ],
   "source": [
    "from sklearn import tree\n",
    "tree.plot_tree(model, filled=True, feature_names=x.columns)"
   ]
  },
  {
   "cell_type": "code",
   "execution_count": 247,
   "metadata": {},
   "outputs": [],
   "source": [
    "def predict(previous_presidential, previous_midterm):\n",
    "    array = np.array([[previous_presidential, previous_midterm]])\n",
    "    array.reshape(-1, 1)\n",
    "    return model.predict(array)[0]"
   ]
  },
  {
   "cell_type": "markdown",
   "metadata": {},
   "source": [
    "Prediction of 2020 presidential election voter turnout is 62.5% given the turnout of 2016 (60.1%) and 2018 (50%)"
   ]
  },
  {
   "cell_type": "code",
   "execution_count": 248,
   "metadata": {},
   "outputs": [
    {
     "data": {
      "text/plain": [
       "62.5"
      ]
     },
     "execution_count": 248,
     "metadata": {},
     "output_type": "execute_result"
    }
   ],
   "source": [
    "predict(60.1, 50)"
   ]
  },
  {
   "cell_type": "code",
   "execution_count": 249,
   "metadata": {},
   "outputs": [],
   "source": [
    "prev_pres = data['Previous Presidential']\n",
    "prev_mid = data['Previous Midterm']"
   ]
  },
  {
   "cell_type": "code",
   "execution_count": 251,
   "metadata": {},
   "outputs": [
    {
     "data": {
      "image/png": "[encoded data removed]",
      "text/plain": [
       "<Figure size 432x288 with 1 Axes>"
      ]
     },
     "metadata": {
      "needs_background": "light"
     },
     "output_type": "display_data"
    }
   ],
   "source": [
    "# Prepping to initialize axes\n",
    "start = data['Year'][0]\n",
    "num = len(x)\n",
    "step = 4\n",
    "\n",
    "# Initialize axes\n",
    "x_axis = np.arange(0, num) * step + start\n",
    "prediction = [predict(prev_pres[i], prev_mid[i]) for i in range(len(x_axis))]\n",
    "actual = [data['Presidential'][i] for i in range(len(x_axis))]\n",
    "\n",
    "# Plot lines\n",
    "plt.plot(x_axis, prediction, label='prediction')\n",
    "plt.plot(x_axis, actual, label='actual')\n",
    "\n",
    "# Label axes and show line labels as well\n",
    "plt.xlabel('Year')\n",
    "plt.ylabel('Voter turnout %')\n",
    "plt.legend()\n",
    "\n",
    "# Show graph\n",
    "plt.show()"
   ]
  },
  {
   "cell_type": "code",
   "execution_count": null,
   "metadata": {},
   "outputs": [],
   "source": []
  }
 ],
 "metadata": {
  "kernelspec": {
   "display_name": "Python 3",
   "language": "python",
   "name": "python3"
  },
  "language_info": {
   "codemirror_mode": {
    "name": "ipython",
    "version": 3
   },
   "file_extension": ".py",
   "mimetype": "text/x-python",
   "name": "python",
   "nbconvert_exporter": "python",
   "pygments_lexer": "ipython3",
   "version": "3.7.4"
  }
 },
 "nbformat": 4,
 "nbformat_minor": 2
}
